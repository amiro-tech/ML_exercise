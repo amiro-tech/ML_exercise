{
 "cells": [
  {
   "cell_type": "markdown",
   "id": "66a98cbb",
   "metadata": {},
   "source": [
    "### Get news data (https://www.kaggle.com/c/fake-news/data)"
   ]
  },
  {
   "cell_type": "code",
   "execution_count": null,
   "id": "2b4eced9",
   "metadata": {},
   "outputs": [],
   "source": [
    "import pandas as pd\n",
    "df = pd.read_csv('train.csv')"
   ]
  },
  {
   "cell_type": "markdown",
   "id": "16e3f2f2",
   "metadata": {},
   "source": [
    "### Prepare the data"
   ]
  },
  {
   "cell_type": "code",
   "execution_count": null,
   "id": "edcb68ad",
   "metadata": {},
   "outputs": [],
   "source": [
    "# Get rid of 'na' entries\n",
    "df = df.dropna()"
   ]
  },
  {
   "cell_type": "code",
   "execution_count": null,
   "id": "397d22f8",
   "metadata": {},
   "outputs": [],
   "source": [
    "news_items = df.copy()\n",
    "# reset sequential indexes after 'na' removal\n",
    "news_items.reset_index(inplace=True)"
   ]
  },
  {
   "cell_type": "code",
   "execution_count": null,
   "id": "b1170d40",
   "metadata": {},
   "outputs": [],
   "source": [
    "# To download 'stopwords':\n",
    "# import nltk\n",
    "# nltk.download('stopwords')\n",
    "from nltk.corpus import stopwords \n",
    "from nltk.stem.porter import PorterStemmer\n",
    "import re\n",
    "\n",
    "ps = PorterStemmer()\n",
    "corpus = []\n",
    "for i in range(len(news_items)):\n",
    "    # replace non-letter characters with ' '\n",
    "    review = re.sub('[^a-zA-Z]', ' ', news_items['title'][i])\n",
    "    # make everything lower-case letters\n",
    "    review = review.lower()\n",
    "    # split to individual words\n",
    "    review = review.split()\n",
    "    # convert all words to their common stem, get rid of stopwords\n",
    "    review = [ps.stem(word) for word in review if not word in stopwords.words('english')]\n",
    "    # merge back to one sentence\n",
    "    review = ' '.join(review)\n",
    "    # append final (reviewed) result\n",
    "    corpus.append(review)"
   ]
  },
  {
   "cell_type": "code",
   "execution_count": null,
   "id": "370114f8",
   "metadata": {},
   "outputs": [],
   "source": [
    "# Independent features as X\n",
    "from sklearn.feature_extraction.text import CountVectorizer\n",
    "cv = CountVectorizer(max_features=5000, ngram_range=(1,3))\n",
    "X = cv.fit_transform(corpus).toarray()"
   ]
  },
  {
   "cell_type": "code",
   "execution_count": null,
   "id": "f95aa60c",
   "metadata": {},
   "outputs": [],
   "source": [
    "# Dependent feature (classifier 1 = fake, 0 = true) as y\n",
    "y = news_items['label']"
   ]
  },
  {
   "cell_type": "code",
   "execution_count": null,
   "id": "f3b6ec6f",
   "metadata": {},
   "outputs": [],
   "source": [
    "# Split to train and test\n",
    "from sklearn.model_selection import train_test_split\n",
    "X_train, X_test, y_train, y_test = train_test_split(X, y, test_size=0.3, random_state=0)"
   ]
  },
  {
   "cell_type": "markdown",
   "id": "2f1ad7fc",
   "metadata": {},
   "source": [
    "### Apply 'Passive Aggressive Classifier' Algorithm"
   ]
  },
  {
   "cell_type": "code",
   "execution_count": null,
   "id": "c18e49e7",
   "metadata": {},
   "outputs": [],
   "source": [
    "# Instantiate model\n",
    "from sklearn.linear_model import PassiveAggressiveClassifier\n",
    "from sklearn.metrics import accuracy_score\n",
    "model = PassiveAggressiveClassifier(n_iter_no_change=50)"
   ]
  },
  {
   "cell_type": "code",
   "execution_count": null,
   "id": "e89f5912",
   "metadata": {
    "scrolled": true
   },
   "outputs": [],
   "source": [
    "# Train the model, and check its accuracy\n",
    "model.fit(X_train, y_train)\n",
    "prediction = model.predict(X_test)\n",
    "score = accuracy_score(y_test, prediction)\n",
    "print(\"accuracy: %0.3f\" % score)"
   ]
  },
  {
   "cell_type": "code",
   "execution_count": null,
   "id": "20d490d1",
   "metadata": {},
   "outputs": [],
   "source": [
    "# Save model\n",
    "import joblib\n",
    "joblib.dump(model, 'fake-news-detector.joblib')"
   ]
  }
 ],
 "metadata": {
  "kernelspec": {
   "display_name": "Python 3 (ipykernel)",
   "language": "python",
   "name": "python3"
  },
  "language_info": {
   "codemirror_mode": {
    "name": "ipython",
    "version": 3
   },
   "file_extension": ".py",
   "mimetype": "text/x-python",
   "name": "python",
   "nbconvert_exporter": "python",
   "pygments_lexer": "ipython3",
   "version": "3.8.10"
  }
 },
 "nbformat": 4,
 "nbformat_minor": 5
}
